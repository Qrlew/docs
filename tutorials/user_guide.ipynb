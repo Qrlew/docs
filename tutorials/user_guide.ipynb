{
 "cells": [
  {
   "cell_type": "markdown",
   "metadata": {},
   "source": [
    "# User Guide\n",
    "[![View On GitHub](https://img.shields.io/badge/View_in_Github-grey?logo=github)](https://github.com/Qrlew/docs/blob/main/tutorials/user_guide.ipynb)\n",
    "[![Open In Colab](https://colab.research.google.com/assets/colab-badge.svg)](https://colab.research.google.com/github/Qrlew/docs/blob/main/tutorials/user_guide.ipynb)\n",
    "\n",
    "[Qrlew](https://qrlew.github.io/) is an [open source library](https://github.com/Qrlew) that can turn SQL queries into their [differentially private (DP)](https://en.wikipedia.org/wiki/Differential_privacy) equivalent.\n",
    "* It takes SQL – the universal language of small and big data analytics – as input, so there is no new language or API to learn.\n",
    "* It returns DP SQL queries that can be executed at scale on any SQL datastore.\n",
    "* The only required extra inputs are the *privacy unit* specification and privacy budget $(\\varepsilon, \\delta)$.\n",
    "\n",
    "With [Qrlew](https://qrlew.github.io/) a *data owner* can receive SQL queries from an untrusted *data analyst*, turn them into DP equivalent, execute them and safely return the result to the *data analyst*.\n",
    "\n",
    "This guide will cover several useful notions from [Qrlew](https://qrlew.github.io/):\n",
    "* We will define a `Dataset` from a database connection.\n",
    "* We will define a *privacy unit*.\n",
    "* And we will run simple DP SQL queries.\n",
    "\n",
    "We will also explore more advanced features:\n",
    "* The support of several SQL dialects: PostgreSQL (default), MSSQL or BigQuery.\n",
    "* The possibility to provide hints – data ranges, finite set of values or unicity constraints – to qrlew to improve the usefulness of the results.\n",
    "* Privacy accounting compatibility with Google's popular Differential Privacy accounting: [dp_accounting](https://github.com/google/differential-privacy/tree/main/python/dp_accounting).\n",
    "* The use of Synthetic Data to further improve the quality of the results."
   ]
  },
  {
   "cell_type": "code",
   "execution_count": null,
   "metadata": {},
   "outputs": [],
   "source": []
  }
 ],
 "metadata": {
  "language_info": {
   "name": "python"
  }
 },
 "nbformat": 4,
 "nbformat_minor": 2
}
