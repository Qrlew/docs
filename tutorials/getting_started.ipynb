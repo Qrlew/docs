{
 "cells": [
  {
   "cell_type": "markdown",
   "metadata": {},
   "source": [
    "# Getting Started\n",
    "\n",
    "To get started using Qrlew you need to:\n",
    "* Get access to a database.\n",
    "* load a few tables,\n",
    "* install `pyqrlew` (Qrlew python binding),\n",
    "* connect to the database and create a `pyqrlew.Dataset`\n",
    "* set bounds to some variables\n",
    "* write a query and rewrite it as differentially private"
   ]
  },
  {
   "cell_type": "markdown",
   "metadata": {},
   "source": [
    "## Get access to a database\n",
    "\n",
    "We will first install a local PostgreSQL database"
   ]
  },
  {
   "cell_type": "code",
   "execution_count": null,
   "metadata": {},
   "outputs": [],
   "source": [
    "#%%capture\n",
    "!sudo apt-get -y -qq update\n",
    "!sudo apt-get -y -qq install postgresql\n",
    "!sudo service postgresql start\n",
    "!sudo -u postgres psql -U postgres -c \"ALTER USER postgres PASSWORD 'password'\"\n",
    "!pip install psycopg2"
   ]
  },
  {
   "cell_type": "code",
   "execution_count": null,
   "metadata": {},
   "outputs": [],
   "source": []
  }
 ],
 "metadata": {
  "kernelspec": {
   "display_name": ".venv",
   "language": "python",
   "name": "python3"
  },
  "language_info": {
   "name": "python",
   "version": "3.9.16"
  }
 },
 "nbformat": 4,
 "nbformat_minor": 2
}
