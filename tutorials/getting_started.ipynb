{
 "cells": [
  {
   "cell_type": "markdown",
   "metadata": {},
   "source": [
    "# Getting Started\n",
    "\n",
    "In this tutorial, we will:\n",
    "* install a local PostgreSQL database,\n",
    "* load a few tables,\n",
    "* install `pyqrlew` (Qrlew python binding),\n",
    "* connect to the database and create a `pyqrlew.Dataset`\n",
    "* set bounds to some variables\n",
    "* write a query and rewrite it as differentially private"
   ]
  },
  {
   "cell_type": "markdown",
   "metadata": {},
   "source": []
  }
 ],
 "metadata": {
  "language_info": {
   "name": "python"
  }
 },
 "nbformat": 4,
 "nbformat_minor": 2
}
